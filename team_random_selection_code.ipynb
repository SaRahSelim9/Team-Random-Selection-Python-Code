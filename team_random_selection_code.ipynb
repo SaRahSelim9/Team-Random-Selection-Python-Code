{
 "cells": [
  {
   "cell_type": "markdown",
   "metadata": {},
   "source": [
    "# Team Random Selection Code :)\n"
   ]
  },
  {
   "cell_type": "code",
   "execution_count": null,
   "metadata": {},
   "outputs": [],
   "source": [
    "import random\n",
    "\n",
    "# Define the four test lists\n",
    "level1_list = [1, 2, 3, 4]\n",
    "level2_list = ['a', 'b', 'c','d']\n",
    "level3_list = [99, 88, 77,66]\n",
    "level4_list = [\"1$\",\"2&\",\"3%\",\"4©\"]"
   ]
  },
  {
   "cell_type": "markdown",
   "metadata": {},
   "source": [
    "Think about a code that help us to have random new mixed lists, each list should have one element from each level lists.\n",
    "\n",
    "Output may be like that following:\n",
    "```python\n",
    "team1 = [1, 'c', 88, '2&']\n",
    "team2 = [4, 'a', 99, '3%']\n",
    "team3 = [2, 'b', 77, '4©']\n",
    "team4 = [3, 'd', 66, '1$']\n",
    "```\n",
    "\n"
   ]
  },
  {
   "cell_type": "code",
   "execution_count": 4,
   "metadata": {},
   "outputs": [
    {
     "name": "stdout",
     "output_type": "stream",
     "text": [
      "[4, 'c', 99, '1$']\n",
      "[2, 'b', 77, '4©']\n",
      "[1, 'a', 66, '3%']\n",
      "[3, 'd', 88, '2&']\n"
     ]
    }
   ],
   "source": [
    "# your code here\n",
    "import random\n",
    "\n",
    "def generate_random_mixed_lists(level1, level2, level3, level4):\n",
    "    mixed_list = []\n",
    "    random.shuffle(level1)\n",
    "    random.shuffle(level2)\n",
    "    random.shuffle(level3)\n",
    "    random.shuffle(level4)\n",
    "    \n",
    "    # Create the mixed lists\n",
    "    for i in range(len(level1)):\n",
    "        mixed_list.append([level1[i], level2[i], level3[i], level4[i]])\n",
    "    \n",
    "    return mixed_list\n",
    "\n",
    "# Define the four test lists\n",
    "level1_list = [1, 2, 3, 4]\n",
    "level2_list = ['a', 'b', 'c', 'd']\n",
    "level3_list = [99, 88, 77, 66]\n",
    "level4_list = [\"1$\", \"2&\", \"3%\", \"4©\"]\n",
    "\n",
    "random_mixed_lists = generate_random_mixed_lists(level1_list, level2_list, level3_list, level4_list)\n",
    "# Print the generated lists\n",
    "for lst in random_mixed_lists:\n",
    "    print(lst)\n"
   ]
  },
  {
   "cell_type": "code",
   "execution_count": 5,
   "metadata": {},
   "outputs": [
    {
     "name": "stdout",
     "output_type": "stream",
     "text": [
      "[3, 'a', 88, '2&']\n",
      "[2, 'b', 88, '1$']\n",
      "[3, 'b', 77, '3%']\n",
      "[4, 'a', 99, '4©']\n"
     ]
    }
   ],
   "source": [
    "import random\n",
    "\n",
    "def generate_random_mixed_lists(level1, level2, level3, level4):\n",
    "    mixed_lists = []\n",
    "    \n",
    "    for _ in range(len(level1)):\n",
    "        mixed_list = [\n",
    "            random.choice(level1),\n",
    "            random.choice(level2),\n",
    "            random.choice(level3),\n",
    "            random.choice(level4)\n",
    "        ]\n",
    "        mixed_lists.append(mixed_list)\n",
    "    \n",
    "    return mixed_lists\n",
    "\n",
    "# Define the four test lists\n",
    "level1_list = [1, 2, 3, 4]\n",
    "level2_list = ['a', 'b', 'c', 'd']\n",
    "level3_list = [99, 88, 77, 66]\n",
    "level4_list = [\"1$\", \"2&\", \"3%\", \"4©\"]\n",
    "\n",
    "random_mixed_lists = generate_random_mixed_lists(level1_list, level2_list, level3_list, level4_list)\n",
    "\n",
    "# Print the generated lists\n",
    "for lst in random_mixed_lists:\n",
    "    print(lst)\n"
   ]
  },
  {
   "cell_type": "code",
   "execution_count": null,
   "metadata": {},
   "outputs": [],
   "source": []
  }
 ],
 "metadata": {
  "kernelspec": {
   "display_name": "Python 3 (ipykernel)",
   "language": "python",
   "name": "python3"
  },
  "language_info": {
   "codemirror_mode": {
    "name": "ipython",
    "version": 3
   },
   "file_extension": ".py",
   "mimetype": "text/x-python",
   "name": "python",
   "nbconvert_exporter": "python",
   "pygments_lexer": "ipython3",
   "version": "3.11.5"
  }
 },
 "nbformat": 4,
 "nbformat_minor": 2
}
